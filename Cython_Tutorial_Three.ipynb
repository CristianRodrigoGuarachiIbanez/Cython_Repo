{
  "nbformat": 4,
  "nbformat_minor": 0,
  "metadata": {
    "colab": {
      "name": "Cython Tutorial Three.ipynb",
      "provenance": [],
      "include_colab_link": true
    },
    "kernelspec": {
      "name": "python3",
      "display_name": "Python 3"
    },
    "accelerator": "GPU"
  },
  "cells": [
    {
      "cell_type": "markdown",
      "metadata": {
        "id": "view-in-github",
        "colab_type": "text"
      },
      "source": [
        "<a href=\"https://colab.research.google.com/github/EveryTimeIWill18/Cython_Repo/blob/master/Cython_Tutorial_Three.ipynb\" target=\"_parent\"><img src=\"https://colab.research.google.com/assets/colab-badge.svg\" alt=\"Open In Colab\"/></a>"
      ]
    },
    {
      "cell_type": "markdown",
      "metadata": {
        "id": "XDMuIv3Laj9S",
        "colab_type": "text"
      },
      "source": [
        "# Cython Tutorial Three: *Memory Allocation*\n",
        "---\n",
        "C is one of the most efficient programming languages as C allows for dynamic memory allocation and reallocation. We can use __Cython__ to take full advantage of memory allocation to speed up our __Python__ applications.\n",
        "\n",
        "## Pointers Review\n",
        "---\n",
        "Before we venture into the world of memory allocaiton, we need to review __pointers__.  Pointers are a variable type that is used to store the memory address of another variable. \n",
        "In __C__, this looks like:\n",
        "\n",
        "```\n",
        "int x = 10;\n",
        "int* intPtr = &x;\n",
        "```\n",
        "\n",
        "In __Cython__:\n",
        "\n",
        "```\n",
        "cdef int x = 10;\n",
        "cdef int* intPtr = &x;\n",
        "```\n",
        "Where:\n",
        "  > __*__: declares __intPtr__ a pointer to an int.\n",
        "  > __&__: is the memory address of a variable. In this case, __intPtr__ stores the memory address of __x__.\n",
        "\n",
        "Since __intPtr__ points to the same memory location as __x__, if we change the value of __intPtr__ to 11, __x__ will be set to ll.\n",
        "\n",
        "To get the value stored in __intPtr__, we must __*dereference*__ it by reusing the __*__ symbol again to get the value stored in __intPtr__. This can be confusing since we originally used __*__ to declare a pointer to an integer, but __C__ and __C++__ use __*__ for both declaring a pointer and dereferencing a pointer. __Cython__ is a bit simpler as we only use __*__ to declare the pointer and use square braket notation to dereference the pointer.\n",
        "In __C__:\n",
        "\n",
        "```\n",
        "cdef int x = 10;  // set x to 10\n",
        "cdef int* intPtr = &x; // create a pointer to an int and set it to the memory location of x\n",
        "printf(\"the value of x is: %d\\n\", *intPtr); // dereference intPter to get the value\n",
        "```"
      ]
    },
    {
      "cell_type": "code",
      "metadata": {
        "id": "JuNVCyxTapYl",
        "colab_type": "code",
        "colab": {}
      },
      "source": [
        "# load in the Cython extension\n",
        "%load_ext cython"
      ],
      "execution_count": 0,
      "outputs": []
    },
    {
      "cell_type": "code",
      "metadata": {
        "id": "ZtaVyLS0gLTY",
        "colab_type": "code",
        "colab": {
          "base_uri": "https://localhost:8080/",
          "height": 52
        },
        "outputId": "98dbb433-0171-4ebe-fb94-5eebe11073b1"
      },
      "source": [
        "%%cython\n",
        "\n",
        "cdef int x = 10 # set x to 10\n",
        "cdef int* intPtr = &x # create a pointer to an int and set it to the memory location of x\n",
        "print(intPtr[0]) # dereference the int pointer\n",
        "intPtr[0] = 11  #change the value of x to 11\n",
        "print(x)"
      ],
      "execution_count": 14,
      "outputs": [
        {
          "output_type": "stream",
          "text": [
            "10\n",
            "11\n"
          ],
          "name": "stdout"
        }
      ]
    },
    {
      "cell_type": "markdown",
      "metadata": {
        "id": "Ae_YwfQhi_D3",
        "colab_type": "text"
      },
      "source": [
        "## Using the C library *stdlib*\n",
        "---\n",
        "We will now introduce four functions from C' __stdlib__ library that are used for dynamic memory allocation. They are:\n",
        "\n",
        "### malloc: *allocates a block of memory*\n",
        "```int* intMem = (int*)malloc(10*sizeof(int)); // C usage```\n",
        "\n",
        "```cdef int* intMem = <int*>malloc(10*sizeof(int)) # Cython usage```\n",
        "\n",
        "### realloc: *attempts to resize a previously allocated block of memory that was allocated with __malloc__ or __calloc__*\n",
        "\n",
        "```\n",
        "intMem = (int*)realloc(int, 20); // C usage \n",
        "```\n",
        "\n",
        "```\n",
        "# Cython usage\n",
        "cdef int* tmp = NULL # create a temporary pointer to an int\n",
        "tmp = <int*>realloc(intMem, 20*sizeof(int)) # copy values of intMem into tmp and double its size\n",
        "intMem = tmp # set intMem to the resized tmp pointer to an int\n",
        "free(tmp) # free the memory allocated for tmp as its no longer needed\n",
        "\n",
        "```\n",
        "\n",
        "### calloc: *allocates memory and sets the memory to 0, unlike that of __malloc__*\n",
        "\n",
        "```int *intMemTwo = (int*)calloc(10, sizeof(int)); // C usage```\n",
        "\n",
        "```cdef int* intMemTwo = <int*>calloc(10, sizeof(int)) # Cython usage```\n",
        "\n",
        "### free: deallocate the previously allocated memory\n",
        "\n",
        "```free(intMem);  // C usage```\n",
        "\n",
        "```free(intMem) # Cython usage```"
      ]
    },
    {
      "cell_type": "code",
      "metadata": {
        "id": "GeN1xIz6ausz",
        "colab_type": "code",
        "colab": {}
      },
      "source": [
        "%%cython\n",
        "from libc.stdlib cimport malloc, free, realloc, calloc\n",
        "\n",
        "cdef int* intMem = <int*>malloc(10*sizeof(int))  # allocate enough space for 10 integers\n",
        "cdef int* mem = NULL                             # create a new pointer to an int and set to NULL\n",
        "mem = <int*>realloc(intMem, 20*sizeof(int))      # use the realloc function from C's stdlib library\n",
        "intMem = mem                                     # set intMem = mem\n",
        "free(mem)                                        # free the temporary mem pointer to an int\n",
        "\n",
        "cdef int* intMemTwo = <int*>calloc(10, sizeof(int)) # using calloc instead of malloc"
      ],
      "execution_count": 0,
      "outputs": []
    },
    {
      "cell_type": "markdown",
      "metadata": {
        "id": "EViMX0Ge3bxx",
        "colab_type": "text"
      },
      "source": [
        "## Void Pointers\n",
        "---\n",
        "Void pointers are useful for creating a generic pointer that can point to any type of variable.\n",
        "Below is a __Cython__ example of how to use void pointers."
      ]
    },
    {
      "cell_type": "code",
      "metadata": {
        "id": "N-1bm9l7cCWZ",
        "colab_type": "code",
        "colab": {
          "base_uri": "https://localhost:8080/",
          "height": 106
        },
        "outputId": "135c8b50-b038-4231-dd66-31c6f29ce152"
      },
      "source": [
        "%%cython\n",
        "# Using void pointers\n",
        "\n",
        "cdef void* p  # this is a general purpose pointer. It currently has no type\n",
        "cdef int x = 123  # create an int\n",
        "p = &x            # void poitner points to an int\n",
        "cdef int* px = <int*>p  # create a new pointer to an int and typecast p to a pointer to an int\n",
        "print(px[0]) # dereference the point to an int\n",
        "\n",
        "cdef double y = 1.123 # create a new double\n",
        "p = &y\n",
        "\n",
        "cdef double* py = <double*>p\n",
        "print(py[0])\n",
        "\n",
        "a = ['a', 'b', 'c']\n",
        "cdef void* aPtr = <void*>a\n",
        "print(<long>aPtr) # points to the same memory address of a\n",
        "print(id(a))      # get the memroy address of a\n",
        "print(<object>aPtr) # we can set the void poitner to the Python object type\n"
      ],
      "execution_count": 40,
      "outputs": [
        {
          "output_type": "stream",
          "text": [
            "123\n",
            "1.123\n",
            "140701548888200\n",
            "140701548888200\n",
            "['a', 'b', 'c']\n"
          ],
          "name": "stdout"
        }
      ]
    },
    {
      "cell_type": "markdown",
      "metadata": {
        "id": "hpIDhne436mq",
        "colab_type": "text"
      },
      "source": [
        "## Using cpython.mem memory allocation functions\n",
        "---\n",
        "Instead of using C's __malloc__, __realloc__ and __free__, we can use __Python's__ __C-API__ memory allocation functions."
      ]
    },
    {
      "cell_type": "code",
      "metadata": {
        "id": "Ipq7JqA5rPoJ",
        "colab_type": "code",
        "colab": {}
      },
      "source": [
        "%%cython\n",
        "from cpython.mem cimport PyMem_Malloc, PyMem_Realloc, PyMem_Free\n",
        "cdef class AllocateMemory:\n",
        "    \"\"\"A class for efficient memory allocation\"\"\"\n",
        "\n",
        "    cdef:\n",
        "        int BUFFER         # size buffer for auto reallocation\n",
        "        double* data\n",
        "        int iterator       # start at the first position of data\n",
        "        int data_length    # length of the array\n",
        "\n",
        "\n",
        "    def __cinit__(self, size_t number):\n",
        "        # allocate some memory\n",
        "        self.iterator = 0 # init iterator\n",
        "        self.BUFFER = 10  # init BUFFER\n",
        "        self.data_length = number\n",
        "        self.data = <double *> PyMem_Malloc(number * sizeof(double))\n",
        "        self.data_length = number # set the current length of data\n",
        "        if not self.data:\n",
        "            raise MemoryError()\n",
        "\n",
        "    def resize(self, size_t new_number):\n",
        "        # Allocate new_number * sizeof(double) bytes\n",
        "        # preserving the current content and making a best-effort to\n",
        "        # re-use the original data location\n",
        "\n",
        "        mem = <double *> PyMem_Realloc(self.data, new_number * sizeof(double))\n",
        "        self.data_length = new_number # resize the length\n",
        "\n",
        "        if not mem:\n",
        "            raise MemoryError()\n",
        "        # Only overwrite the pointer if the memory was really reallocated.\n",
        "        # On error (mem is NULL), the originally memory has not been freed.\n",
        "        self.data = mem\n",
        "\n",
        "    def __dealloc__(self):\n",
        "        PyMem_Free(self.data) # no-op if self.data is NULL\n",
        "\n",
        "\n",
        "    def insert(self, double value, re_size=False, int new_number=-1):\n",
        "        # insert data into the array\n",
        "        if self.iterator < self.data_length:\n",
        "            self.data[self.iterator] = value # set the value\n",
        "            self.iterator += 1  # increment iterator\n",
        "        elif self.iterator >= self.data_length:\n",
        "            if re_size:\n",
        "                if new_number > 0:\n",
        "                    self.resize(new_number)\n",
        "                    self.data[self.iterator] = value\n",
        "                    self.iterator += 1  # increment iterator\n",
        "                else:\n",
        "                    print(\"The value, {} will not be inserted\".format(value))\n",
        "            else:\n",
        "                raise TypeError()\n",
        "\n",
        "    def c_print(self):\n",
        "        print(\"iterator currently pointing to {}\".format(self.iterator))\n",
        "\n",
        "    def get_values(self):\n",
        "        cdef counter = 0\n",
        "        while counter < self.iterator:\n",
        "            print(self.data[counter])\n",
        "            counter += 1"
      ],
      "execution_count": 0,
      "outputs": []
    },
    {
      "cell_type": "markdown",
      "metadata": {
        "id": "hEgnga6K5uM0",
        "colab_type": "text"
      },
      "source": [
        "### Using cymem memory allocation functions\n",
        "---\n",
        "The module, __cymem__ provides `cymem.Pool` that wraps around the `calloc` function so garbage collection is automated; meaning, we don't have to worry about calling the `free` function when we want to deallocate memory."
      ]
    },
    {
      "cell_type": "code",
      "metadata": {
        "id": "D7hd6vTZ4JBW",
        "colab_type": "code",
        "colab": {
          "base_uri": "https://localhost:8080/",
          "height": 35
        },
        "outputId": "f75dfa37-19d1-47d9-b487-95592089e29c"
      },
      "source": [
        "!pip install cymem"
      ],
      "execution_count": 44,
      "outputs": [
        {
          "output_type": "stream",
          "text": [
            "Requirement already satisfied: cymem in /usr/local/lib/python3.6/dist-packages (2.0.2)\n"
          ],
          "name": "stdout"
        }
      ]
    },
    {
      "cell_type": "code",
      "metadata": {
        "id": "Aa-f0d8w6n41",
        "colab_type": "code",
        "colab": {}
      },
      "source": [
        "%%cython\n",
        "from cymem.cymem cimport Pool\n",
        "cdef Pool memory = Pool() # creates a Pool for storing memory addresses and frees them during garbage collection\n",
        "cdef int* allocMemOne = <int*>memory.alloc(10, sizeof(int)) # allocate enough spacememroy for 10 ints\n",
        "cdef int* allocMemTwo = <int*>memory.alloc(20, sizeof(int)) # allocate enough memory for 20 ints"
      ],
      "execution_count": 0,
      "outputs": []
    },
    {
      "cell_type": "code",
      "metadata": {
        "id": "7nvClJ0R7AQM",
        "colab_type": "code",
        "colab": {}
      },
      "source": [
        ""
      ],
      "execution_count": 0,
      "outputs": []
    }
  ]
}