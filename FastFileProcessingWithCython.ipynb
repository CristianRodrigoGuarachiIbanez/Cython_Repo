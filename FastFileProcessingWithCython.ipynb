{
 "cells": [
  {
   "cell_type": "markdown",
   "metadata": {},
   "source": [
    "# File PreProcessing With C and Cython\n",
    "\n",
    "__William Murphy__ - *Machine Learning Specialist*<br> *General Reinsurance Corporation*\n",
    "<br>*email:* will.robert.murphy@gmail.com\n",
    "\n",
    "---\n",
    "\n",
    "*This notebook sets up an efficent way opening files and extracting data from them. I make use of __Cython__ and __C's__ internal libraries to speed file file processing.*"
   ]
  },
  {
   "cell_type": "markdown",
   "metadata": {},
   "source": [
    "### Tokenize Cython Class\n",
    "---\n",
    "*I build a cython class that uses C's __stdio__, __stdlib__, and __string__ libraries to to the heavy lifting of reading a file's contents.*<br>\n",
    "*First, we must load in the cython extension.*"
   ]
  },
  {
   "cell_type": "code",
   "execution_count": 2,
   "metadata": {
    "ExecuteTime": {
     "end_time": "2019-03-25T20:54:14.687555Z",
     "start_time": "2019-03-25T20:54:14.141542Z"
    }
   },
   "outputs": [],
   "source": [
    "%load_ext cython"
   ]
  },
  {
   "cell_type": "code",
   "execution_count": 3,
   "metadata": {
    "ExecuteTime": {
     "end_time": "2019-03-25T20:54:18.451651Z",
     "start_time": "2019-03-25T20:54:16.752606Z"
    }
   },
   "outputs": [],
   "source": [
    "%%cython -f\n",
    "# distutils: extra_compile_args = -fopenmp\n",
    "# distutils: extra_link_args = -fopenmp\n",
    "# cython: language_level=3\n",
    "# cython: embedsignature=True\n",
    "# cython: profile=True\n",
    "# cython: boundscheck=False\n",
    "# coding: utf8\n",
    "\n",
    "from libc.stdlib cimport malloc, realloc, free\n",
    "from libc.stdio cimport fopen, fclose, FILE, EOF, fseek, SEEK_END, SEEK_SET\n",
    "from libc.stdio cimport ftell, fgetc, fgets, getc, gets, feof, fread, getline\n",
    "from libc.string cimport strlen, memcpy, strcpy, strtok, strchr, strncpy\n",
    "from cython.parallel import prange, parallel, threadid\n",
    "\n",
    "# - C structure that is set to readonly\n",
    "cdef readonly struct FileContents:\n",
    "    char *contents\n",
    "    \n",
    "cdef class CyReadFile:\n",
    "    \"\"\"Read in the contents of a file.\"\"\"\n",
    "    cdef:\n",
    "        FileContents *File\n",
    "        FILE *fp\n",
    "        char *filename\n",
    "        char *delimiter\n",
    "        long file_size\n",
    "        bint is_open\n",
    "        bint EO_STR\n",
    "    \n",
    "    def __init__(self, char *delimiter, char *filename):\n",
    "        self.File = <FileContents*>malloc(sizeof(CyReadFile))\n",
    "        self.delimiter = delimiter\n",
    "        self.filename = filename\n",
    "        self.File.contents = NULL\n",
    "        self.is_open = 0\n",
    "        self.EO_STR = 0\n",
    "        self.file_size = 0\n",
    "        self.fp = NULL\n",
    "        \n",
    "    def open_file(self):\n",
    "        \"\"\"Open the file for reading.\"\"\"\n",
    "        self.fp = fopen(self.filename, \"r\")\n",
    "        if self.fp == NULL:\n",
    "            raise FileNotFoundError(2, \"No such file or directory: '%s'\" % self.filename)\n",
    "        else:\n",
    "            # file is now open\n",
    "            self.is_open = 1\n",
    "    \n",
    "    def read_in_file(self):\n",
    "        \"\"\"Read in the entire file.\"\"\"\n",
    "        if self.is_open == 1:\n",
    "            # get the length of the file\n",
    "            fseek(self.fp, 0, SEEK_END)\n",
    "            self.file_size = ftell(self.fp)\n",
    "            fseek(self.fp, 0, SEEK_SET)\n",
    "            # allocate memory for reading in the file\n",
    "            self.File.contents = <char*>malloc(self.file_size*sizeof(char))\n",
    "            # read entire file into the struct\n",
    "            fread(self.File.contents, 1, self.file_size, self.fp)\n",
    "            # close the file once it's read into the char array\n",
    "            fclose(self.fp)\n",
    "            # set is_open to 0\n",
    "            self.is_open = 0\n",
    "              \n",
    "    def read_file_in_parallel(self):\n",
    "        \"\"\"Bypass the gil and read in the file.\"\"\"\n",
    "        if self.is_open == 1:\n",
    "            with nogil:\n",
    "                # get the length of the file\n",
    "                fseek(self.fp, 0, SEEK_END)\n",
    "                self.file_size = ftell(self.fp)\n",
    "                fseek(self.fp, 0, SEEK_SET)\n",
    "                # allocate memory for reading in the file\n",
    "                self.File.contents = <char*>malloc(self.file_size*sizeof(char))\n",
    "                # read entire file into the struct\n",
    "                fread(self.File.contents, 1, self.file_size, self.fp)\n",
    "                # close the file once it's read into the char array\n",
    "                fclose(self.fp)\n",
    "                # set is_open to 0\n",
    "                self.is_open = 0\n",
    "    \n",
    "    def __dealloc__(self):\n",
    "        \"\"\"Deallocate memory\"\"\"\n",
    "        free(self.File.contents)\n",
    "        free(self.File)\n",
    "        free(self.fp)\n",
    "        free(self.filename)\n",
    "        free(self.delimiter)\n",
    "        \n",
    "            \n",
    "# - To use the cython class, we must create a python subclass that inherits from it.\n",
    "# - I will set the cython variables concretely in the Python subclass\n",
    "\n",
    "# test data\n",
    "emlFile = b\"Y:\\\\Shared\\\\USD\\\\Business Data and Analytics\\\\Claims_Pipeline_Files\\\\Mapping_Files\\\\EmlMappingFile.csv\"\n",
    "\n",
    "class PyReadFile(CyReadFile):\n",
    "    \"\"\"A python wrapper around a cython class.\"\"\"\n",
    "    def __init__(self):\n",
    "        super().__init__(b',', emlFile)\n",
    "    \n",
    "        \n",
    "def py_read_file(filename):\n",
    "    with open(filename, \"r\") as f:\n",
    "        return f.read()\n",
    "    \n",
    "\n"
   ]
  },
  {
   "cell_type": "markdown",
   "metadata": {},
   "source": [
    "###  Performance Test"
   ]
  },
  {
   "cell_type": "code",
   "execution_count": 12,
   "metadata": {
    "ExecuteTime": {
     "end_time": "2019-03-25T20:03:59.269402Z",
     "start_time": "2019-03-25T20:03:49.794165Z"
    }
   },
   "outputs": [
    {
     "name": "stdout",
     "output_type": "stream",
     "text": [
      "81.3 ns ± 0.869 ns per loop (mean ± std. dev. of 7 runs, 10000000 loops each)\n",
      "3.53 ms ± 104 µs per loop (mean ± std. dev. of 7 runs, 100 loops each)\n"
     ]
    }
   ],
   "source": [
    "pyrf = PyReadFile()\n",
    "pyrf.open_file()\n",
    "%timeit pyrf.read_in_file()\n",
    "%timeit py_read_file(emlFile)"
   ]
  },
  {
   "cell_type": "markdown",
   "metadata": {},
   "source": [
    "As you can see, __cython__ reads in the file at the __*nano second*__ level and the pure __python__ *open* method runs at the __*millisecond*__ level. Lets convert this information to see how much faster the __cython__ file reading was.<br>\n",
    "\n",
    "$$ 1 \\quad millisecond = 1000000 \\quad nanoseconds $$\n",
    "\n",
    "$$ 3.53 \\quad milliseconds = 3530000 \\quad nanoseconds$$\n",
    "\n",
    "$$ 81.3 \\quad nanoseconds  = 0.0000813 \\quad milliseconds$$\n",
    "<br>\n",
    "<br>\n",
    "This means, we have dropped our __*run time complexity*__ by __3529999.9999187%__ !"
   ]
  },
  {
   "cell_type": "markdown",
   "metadata": {},
   "source": [
    "### Performance Test with Using Concurrency\n",
    "---\n",
    "One of the great advantages of using __Cython__ is that we can bypass the *GIL* or __*Global Interpreter Lock*__. To do so, we use the cython keyword: <br> \n",
    ">```cython\n",
    ">    nogil\n",
    ">```\n",
    "\n",
    "We use the *__nogil__* keyword like so:\n",
    "```cython\n",
    "# cython: boundscheck = False\n",
    "from cython.parallel cimport prange\n",
    "\n",
    "# NOTE: We must set boundscheck = False for prange to work.\n",
    "# - this function bypasses the gil\n",
    "cdef int f1(int n):\n",
    "    cdef int i = 0\n",
    "    cdef int sum_ = 0\n",
    "    with nogil:\n",
    "        for i in range(n):\n",
    "            sum_ += i\n",
    "    return sum_\n",
    "\n",
    "# - this function is safe to use w/o the gil\n",
    "# NOTE: It does not bypass the gil.\n",
    "cdef int f2(int n) nogil:\n",
    "     cdef int i = 0\n",
    "    cdef int sum_ = 0\n",
    "    for i in range(n):\n",
    "        sum_ += i\n",
    "    return sum_\n",
    "\n",
    "```"
   ]
  },
  {
   "cell_type": "markdown",
   "metadata": {},
   "source": [
    "### Cython Concurrency Calculations\n"
   ]
  },
  {
   "cell_type": "code",
   "execution_count": 4,
   "metadata": {
    "ExecuteTime": {
     "end_time": "2019-03-25T20:54:52.994534Z",
     "start_time": "2019-03-25T20:54:43.123283Z"
    }
   },
   "outputs": [
    {
     "name": "stdout",
     "output_type": "stream",
     "text": [
      "87.4 ns ± 7.48 ns per loop (mean ± std. dev. of 7 runs, 10000000 loops each)\n",
      "3.42 ms ± 40.6 µs per loop (mean ± std. dev. of 7 runs, 100 loops each)\n"
     ]
    }
   ],
   "source": [
    "# setup for comparing parallel cython and python open\n",
    "pyrf_parallel = PyReadFile()\n",
    "pyrf_parallel.open_file()\n",
    "%timeit pyrf_parallel.read_file_in_parallel()\n",
    "%timeit py_read_file(emlFile)"
   ]
  },
  {
   "cell_type": "markdown",
   "metadata": {},
   "source": [
    "As expected, simply using the  __`nogil`__ without considering the other aspects of what __cython__ is doing under the covers does not provide a speed boost."
   ]
  },
  {
   "cell_type": "markdown",
   "metadata": {},
   "source": [
    "### Conclusion"
   ]
  },
  {
   "cell_type": "markdown",
   "metadata": {},
   "source": [
    "I hope you enjoyed this lesson on using __cython__ to read in files. I'm currently in the process of creating file Tokenizer class that will eventually be part of a larger __*NLP*__ cython package.<br>\n",
    "Thanks!<br><br>\n",
    "*Will*"
   ]
  },
  {
   "cell_type": "code",
   "execution_count": null,
   "metadata": {},
   "outputs": [],
   "source": []
  }
 ],
 "metadata": {
  "hide_input": false,
  "kernelspec": {
   "display_name": "Python 3",
   "language": "python",
   "name": "python3"
  },
  "language_info": {
   "codemirror_mode": {
    "name": "ipython",
    "version": 3
   },
   "file_extension": ".py",
   "mimetype": "text/x-python",
   "name": "python",
   "nbconvert_exporter": "python",
   "pygments_lexer": "ipython3",
   "version": "3.6.8"
  },
  "latex_envs": {
   "LaTeX_envs_menu_present": true,
   "autoclose": false,
   "autocomplete": true,
   "bibliofile": "biblio.bib",
   "cite_by": "apalike",
   "current_citInitial": 1,
   "eqLabelWithNumbers": true,
   "eqNumInitial": 1,
   "hotkeys": {
    "equation": "Ctrl-E",
    "itemize": "Ctrl-I"
   },
   "labels_anchors": false,
   "latex_user_defs": false,
   "report_style_numbering": false,
   "user_envs_cfg": false
  }
 },
 "nbformat": 4,
 "nbformat_minor": 2
}
