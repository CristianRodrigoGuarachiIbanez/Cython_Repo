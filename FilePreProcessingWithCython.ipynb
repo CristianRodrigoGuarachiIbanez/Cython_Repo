{
 "cells": [
  {
   "cell_type": "markdown",
   "metadata": {
    "cell_style": "center"
   },
   "source": [
    "# File PreProcessing With C and Cython\n",
    "\n",
    "#### *William Murphy*<br> *General Reinsurance Corporation*\n",
    "\n",
    "---\n",
    "*This jupyter notebook sets up an efficent way of extracting data from unstructured data sources.*"
   ]
  },
  {
   "cell_type": "code",
   "execution_count": 4,
   "metadata": {
    "ExecuteTime": {
     "end_time": "2019-03-25T15:23:54.022182Z",
     "start_time": "2019-03-25T15:23:54.014170Z"
    },
    "code_folding": [
     0
    ]
   },
   "outputs": [
    {
     "name": "stdout",
     "output_type": "stream",
     "text": [
      "\n",
      "<style>\n",
      "    body:p {\n",
      "        color: #007bff;\n",
      "        font-size: 10px;\n",
      "        \n",
      "    }\n",
      "</style>\n",
      "\n",
      "<body style=\"font color=\"blue\";>\n",
      "   <p> File PreProcessing With C and Cython</p>\n",
      "</body>\n",
      "\n"
     ]
    },
    {
     "data": {
      "text/html": [
       "\n",
       "<style>\n",
       "    body:p {\n",
       "        color: #007bff;\n",
       "        font-size: 10px;\n",
       "        \n",
       "    }\n",
       "</style>\n",
       "\n",
       "<body style=\"font color=\"blue\";>\n",
       "   <p> File PreProcessing With C and Cython</p>\n",
       "</body>\n"
      ],
      "text/plain": [
       "<IPython.core.display.HTML object>"
      ]
     },
     "execution_count": 4,
     "metadata": {},
     "output_type": "execute_result"
    }
   ],
   "source": [
    "# - setup notebook display features\n",
    "from IPython.display import IFrame\n",
    "from IPython.display import HTML\n",
    "from IPython.display import (display_pretty, display_html, display_jpeg, \n",
    "                             display_png, display_json, display_latex, display_svg)\n",
    "\n",
    "\n",
    "html_begin = \"\"\"\n",
    "\n",
    "\"\"\"\n",
    "\n",
    "html_framework = \"\"\"\n",
    "<body style=\"font color=\"blue\";>\n",
    "   <p> File PreProcessing With C and Cython</p>\n",
    "</body>\n",
    "\"\"\"\n",
    "css_framework = \"\"\"\n",
    "<style>\n",
    "    body:p {\n",
    "        color: #007bff;\n",
    "        font-size: 10px;\n",
    "        \n",
    "    }\n",
    "</style>\n",
    "\"\"\"\n",
    "html_ = css_framework + html_framework \n",
    "print(html_)\n",
    "\n",
    "\n",
    "HTML(html_)"
   ]
  },
  {
   "cell_type": "code",
   "execution_count": 1,
   "metadata": {
    "ExecuteTime": {
     "end_time": "2019-03-25T18:19:43.852088Z",
     "start_time": "2019-03-25T18:19:43.409076Z"
    }
   },
   "outputs": [],
   "source": [
    "%load_ext cython"
   ]
  },
  {
   "cell_type": "markdown",
   "metadata": {},
   "source": [
    "### Fast File I/O\n",
    "---\n",
    "*Using __Cython__, we can efficiently read in files for faster data processing.*\n",
    "\n",
    "*In this notebook, we use __C__ and __Cython__ to:*\n",
    "- __read in data__\n",
    "- __perform tokenization__\n",
    "- __NLP__\n",
    "- __neural neyworks__"
   ]
  },
  {
   "cell_type": "code",
   "execution_count": 17,
   "metadata": {
    "ExecuteTime": {
     "end_time": "2019-03-25T15:42:25.334599Z",
     "start_time": "2019-03-25T15:42:23.416555Z"
    }
   },
   "outputs": [
    {
     "name": "stderr",
     "output_type": "stream",
     "text": [
      "warning: C:\\Users\\wmurphy\\.ipython\\cython\\_cython_magic_4c0a27d0f11c7b62ea43e0a5b76782b0.pyx:113:17: Obtaining 'char *' from externally modifiable global Python value\n"
     ]
    },
    {
     "name": "stdout",
     "output_type": "stream",
     "text": [
      "8620\n",
      "8565\n"
     ]
    }
   ],
   "source": [
    "%%cython\n",
    "# cython: boundscheck = False\n",
    "import os\n",
    "import numpy as np\n",
    "cimport numpy as np\n",
    "from libc.stdlib cimport malloc, realloc, free\n",
    "from libc.stdio cimport fopen, fclose, FILE, EOF, fseek, SEEK_END, SEEK_SET\n",
    "from libc.stdio cimport ftell, fgetc, fgets, getc, gets, feof, fread, getline\n",
    "from libc.string cimport strlen, memcpy, strcpy, strtok\n",
    "from cython.parallel import prange, parallel, threadid\n",
    "\n",
    "cpdef int read_file(char *filename):\n",
    "    \"\"\"Efficiently read in a file\"\"\"\n",
    "\n",
    "    cdef FILE *fp = NULL # create a file pointer\n",
    "    fp = fopen(filename, \"r\")\n",
    "    if fp == NULL:\n",
    "        raise FileNotFoundError(2, \"No such file or directory: '%s'\" % filename)\n",
    "    \n",
    "    \n",
    "    # file parsing variables\n",
    "    cdef int c = 0\n",
    "    cdef int num_bytes = 0\n",
    "    # allocate 1000 bytes of memory\n",
    "    #cdef char *s = <char*>malloc(1000*sizeof(char))\n",
    "    \n",
    "    # bypass the gil\n",
    "    with nogil:\n",
    "        while True:\n",
    "            c = fgetc(fp)\n",
    "            if feof(fp):\n",
    "                break\n",
    "            num_bytes += 1\n",
    "    # close the file\n",
    "    fclose(fp)\n",
    "    return num_bytes\n",
    "        \n",
    "cpdef int cy_read(char *filename):\n",
    "    \"\"\"Read in a file\"\"\"\n",
    "    cdef FILE *fp = NULL\n",
    "    fp = fopen(filename, \"r\")\n",
    "    if fp == NULL:\n",
    "        raise FileNotFoundError(2, \"No such file or directory: '%s'\" % filename)\n",
    "    cdef int flen = 0\n",
    "    with nogil:\n",
    "        fseek(fp, 0, SEEK_END)\n",
    "        flen = ftell(fp)\n",
    "        fclose(fp)\n",
    "        return flen\n",
    "    \n",
    "\n",
    "cpdef cy_file_read(char *filename):\n",
    "    cdef FILE *fp = NULL\n",
    "    fp = fopen(filename, \"r\")\n",
    "    if fp == NULL:\n",
    "        raise FileNotFoundError(2, \"No such file or directory: '%s'\" % filename)\n",
    "    # get the file length\n",
    "    cdef long flen = 0\n",
    "    cdef char *whole_text = NULL\n",
    "    \n",
    "    fseek(fp, 0, SEEK_END)\n",
    "    flen = ftell(fp)\n",
    "    fseek(fp, 0, SEEK_SET)\n",
    "    whole_text = <char*>malloc(flen*sizeof(char))\n",
    "    fread(whole_text, 1, flen, fp)\n",
    "    fclose(fp)\n",
    "    return whole_text\n",
    "        \n",
    "cpdef int cy_str_tok(char *filename, char *delimiter):\n",
    "    cdef FILE *fp\n",
    "    fp = fopen(filename, \"r\")\n",
    "    if fp == NULL:\n",
    "        raise FileNotFoundError(2, \"No such file or directory: '%s'\" % filename)\n",
    "    \n",
    "    # get the file length\n",
    "    cdef long flen = 0\n",
    "    cdef char *whole_text = NULL \n",
    "    fseek(fp, 0, SEEK_END)\n",
    "    flen = ftell(fp)\n",
    "    fseek(fp, 0, SEEK_SET)\n",
    "    whole_text = <char*>malloc(flen*sizeof(char))\n",
    "    fread(whole_text, 1, flen, fp)\n",
    "    fclose(fp)\n",
    "    \n",
    "    # get the number of tokens\n",
    "    cdef int tok_counter = 1\n",
    "    cdef char *token\n",
    "    token = strtok(whole_text, delimiter)\n",
    "    with nogil:\n",
    "        while token != NULL:\n",
    "            token = strtok(NULL, delimiter)\n",
    "            tok_counter += 1\n",
    "    return tok_counter\n",
    "    \n",
    "\n",
    "    \n",
    "def py_tokenize(filename, delimiter):\n",
    "    \"tokenize an input file\"\n",
    "    with open(filename, \"r\") as f:\n",
    "        contents = f.read()\n",
    "        counter = 1\n",
    "        for c in contents:\n",
    "            if c == delimiter:\n",
    "                counter += 1\n",
    "        return counter\n",
    "    \n",
    "\n",
    "emlFile = b\"Y:\\\\Shared\\\\USD\\\\Business Data and Analytics\\\\Claims_Pipeline_Files\\\\Mapping_Files\\\\EmlMappingFile.csv\"\n",
    "\n",
    "# check this version(works as well)\n",
    "#print(cy_file_read(emlFile))\n",
    "#print(os.path.getsize(emlFile))\n",
    "#print(read_file(emlMappingFile))\n",
    "print(cy_str_tok(emlFile, ','))\n",
    "print(py_tokenize(emlFile, ','))\n",
    "#print(cy_file_read(emlFile))"
   ]
  },
  {
   "cell_type": "markdown",
   "metadata": {},
   "source": [
    "### Using Cython Pointers"
   ]
  },
  {
   "cell_type": "code",
   "execution_count": 57,
   "metadata": {
    "ExecuteTime": {
     "end_time": "2019-03-25T17:03:55.692726Z",
     "start_time": "2019-03-25T17:03:54.317697Z"
    }
   },
   "outputs": [
    {
     "name": "stdout",
     "output_type": "stream",
     "text": [
      "123\n",
      "0.2\n"
     ]
    }
   ],
   "source": [
    "%%cython\n",
    "\n",
    "# General purpose pointer - no type given\n",
    "cdef void* p\n",
    "\n",
    "# Store int data in p\n",
    "cdef int x = 123\n",
    "p = &x # p points to the memory address of x\n",
    "\n",
    "# Now cast the pointer to an int\n",
    "cdef int *iPtr = <int*>p\n",
    "print(iPtr[0]) # get the value stored\n",
    "\n",
    "# Utilizing funtion pointers\n",
    "cdef double f(int x):\n",
    "    return x / 10.0\n",
    "\n",
    "# Using cython's ctypedef[ in C, it's the typedef keyword]\n",
    "ctypedef double(*function_ptr)(int) # funt pointer that takes an int and returns a double\n",
    "\n",
    "# x now points to f\n",
    "cdef function_ptr fp\n",
    "fp = &f\n",
    "# Print output\n",
    "print(fp(2))"
   ]
  },
  {
   "cell_type": "markdown",
   "metadata": {},
   "source": [
    "### Faster File Reading With C and Cython"
   ]
  },
  {
   "cell_type": "code",
   "execution_count": 35,
   "metadata": {
    "ExecuteTime": {
     "end_time": "2019-03-25T19:02:59.408495Z",
     "start_time": "2019-03-25T19:02:57.677705Z"
    }
   },
   "outputs": [
    {
     "name": "stdout",
     "output_type": "stream",
     "text": [
      "c\n",
      "l\n",
      "a\n",
      "i\n",
      "m\n",
      "_\n",
      "i\n",
      "d\n",
      ",\n",
      "f\n",
      "i\n",
      "l\n",
      "e\n",
      "s\n",
      "\n",
      "\n",
      "527391\n",
      "False\n",
      "b'claim_id,filess\\\\Public'\n"
     ]
    }
   ],
   "source": [
    "%%cython\n",
    "# cython: language_level=3\n",
    "# cython: embedsignature=True\n",
    "# cython: profile=True\n",
    "# cython: boundscheck=False\n",
    "# coding: utf8\n",
    "from libc.stdlib cimport malloc, realloc, free\n",
    "from libc.stdio cimport fopen, fclose, FILE, EOF, fseek, SEEK_END, SEEK_SET\n",
    "from libc.stdio cimport ftell, fgetc, fgets, getc, gets, feof, fread, getline\n",
    "from libc.string cimport strlen, memcpy, strcpy, strtok, strchr, strncpy\n",
    "from cython.parallel import prange, parallel, threadid\n",
    "from cpython.mem cimport PyMem_Malloc, PyMem_Realloc, PyMem_Free\n",
    "\n",
    "# preprocessor directive\n",
    "DEF BUFFER = 100\n",
    "\n",
    "# template for numeric types\n",
    "ctypedef fused numeric_var:\n",
    "    int\n",
    "    long\n",
    "    long long\n",
    "    float\n",
    "    double\n",
    "\n",
    "# Token is a c level struct that stores token information\n",
    "cdef readonly struct Token:\n",
    "    char **token_array\n",
    "    int *token_size_array\n",
    "    \n",
    "cdef readonly struct Columns:\n",
    "    char **column_array\n",
    "    \n",
    "cdef readonly struct Rows:\n",
    "    Columns *Col\n",
    "    \n",
    "cdef readonly struct DataContainer:\n",
    "    char ***data_frame\n",
    "    char *columns\n",
    "    char **data_array\n",
    "    \n",
    "\n",
    "    \n",
    "cdef class Tokenize:\n",
    "    \"\"\"Tokenize the input file/string\"\"\"\n",
    "    cdef Token *Tok\n",
    "    cdef FILE *fp\n",
    "    cdef readonly:\n",
    "        char *filename\n",
    "        char *column_header\n",
    "        char *delimiter\n",
    "        char newline\n",
    "        char *file_contents\n",
    "        char current_char\n",
    "        int iterator\n",
    "        int c\n",
    "        int num_columns\n",
    "        long file_size\n",
    "        int num_tokens\n",
    "        bint is_open\n",
    "        bint EO_STR\n",
    "        \n",
    "    def __init__(self, char *delimiter, char *filename):\n",
    "        self.Tok = <Token*>malloc(sizeof(Token))\n",
    "        self.delimiter = delimiter\n",
    "        self.newline = b\"\\n\"\n",
    "        self.is_open = 0\n",
    "        self.fp = NULL\n",
    "        self.filename = filename\n",
    "        self.column_header = NULL\n",
    "        self.file_contents = NULL\n",
    "        self.file_size = 0\n",
    "        self.num_tokens = 0\n",
    "        self.iterator = 0\n",
    "        self.current_char = b\" \"\n",
    "        self.c = 0\n",
    "        self.EO_STR = 0\n",
    "        self.num_columns = 0\n",
    "        \n",
    "    def open_file(self):\n",
    "        \"\"\"Open the file for reading\"\"\"\n",
    "        self.fp = fopen(self.filename, \"r\")\n",
    "        if self.fp == NULL:\n",
    "            raise FileNotFoundError(2, \"No such file or directory: '%s'\" % self.filename)\n",
    "        else:\n",
    "            # file is now open\n",
    "            self.is_open = 1\n",
    "        \n",
    "    def  read_in_file(self):\n",
    "        \"\"\"get the file size\"\"\"\n",
    "        if self.is_open == 1:\n",
    "            # get the file length\n",
    "            fseek(self.fp, 0, SEEK_END)\n",
    "            self.file_size = ftell(self.fp)\n",
    "            fseek(self.fp, 0, SEEK_SET)\n",
    "            # allocate memory for reading the file\n",
    "            self.file_contents = <char*>malloc(self.file_size*sizeof(char))\n",
    "            # read in the entire file\n",
    "            fread(self.file_contents, 1, self.file_size, self.fp)\n",
    "            # close the file once it's read into a char array\n",
    "            fclose(self.fp)\n",
    "            # set is open to 0\n",
    "            self.is_open = 0\n",
    "    \n",
    "    def get_columns(self):\n",
    "        \"\"\"set up the column names\"\"\"\n",
    "        if self.file_contents != NULL:\n",
    "            tmp = 0\n",
    "            while True:\n",
    "                print(<str>chr(self.file_contents[self.iterator]))\n",
    "                if <str>chr(self.file_contents[self.iterator]) == \"\\n\":\n",
    "                    self.num_columns += 1\n",
    "                    \n",
    "                    break\n",
    "                if <str>chr(self.file_contents[self.iterator])== \"\\0\":\n",
    "                    self.EO_STR = 0 # end of string reached\n",
    "                    break\n",
    "                if <str>chr(self.file_contents[self.iterator])== \",\":\n",
    "                    self.num_columns += 1  \n",
    "                    tmp = self.iterator\n",
    "                self.iterator += 1\n",
    "            #print(\"iterator position: {}\".format(self.iterator))\n",
    "            #print(\"tmp = {}\".format(tmp))\n",
    "            \n",
    "            # allocate memory for the column information\n",
    "            self.column_header = <char*>malloc(self.iterator*sizeof(char))\n",
    "            strncpy(self.column_header, self.file_contents, self.iterator)\n",
    "            \n",
    "            #self.current_char = self.file_contents[0]\n",
    "            #self.iterator += 1\n",
    "            #while self.current_char != self.newline:\n",
    "            #    self.current_char = self.file_contents[self.iterator]\n",
    "            #    self.iterator += 1\n",
    "            #self.column_header = strncpy(self.column_header, self.file_contents, self.iterator)\n",
    "                        \n",
    "    def __dealloc__(self):\n",
    "        \"\"\"Deallocate memory when finished\"\"\"\n",
    "        pass\n",
    "    \n",
    "    cdef void reallocate_mem(self, size_t mem):\n",
    "        \"\"\"reallocate memory\"\"\"\n",
    "        pass\n",
    "    \n",
    "\n",
    "        \n",
    "       \n",
    "        \n",
    "\n",
    "# test the class\n",
    "emlFile = b\"Y:\\\\Shared\\\\USD\\\\Business Data and Analytics\\\\Claims_Pipeline_Files\\\\Mapping_Files\\\\EmlMappingFile.csv\"\n",
    "# create an instance of the tokenizer class\n",
    "tokenizer = Tokenize(b',', emlFile)\n",
    "tokenizer.open_file()\n",
    "tokenizer.read_in_file()\n",
    "tokenizer.get_columns()\n",
    "print(tokenizer.file_size)\n",
    "print(tokenizer.is_open)\n",
    "print(tokenizer.column_header)\n",
    "#print(tokenizer.file_contents)\n",
    "\n",
    "class PyTokenize(Tokenize):\n",
    "    \"\"\"\n",
    "    Python wrapper around the Cython\n",
    "    Tokenize class.\n",
    "    \"\"\"\n",
    "    def __init__(self):\n",
    "        super().__init__(b',', emlFile)\n",
    "       \n",
    "    \n",
    "    \n",
    "    \n",
    "    \n",
    "    \n",
    "    \n",
    "    \n",
    "    \n",
    "    \n",
    "    "
   ]
  },
  {
   "cell_type": "code",
   "execution_count": 41,
   "metadata": {
    "ExecuteTime": {
     "end_time": "2019-03-25T19:05:50.919762Z",
     "start_time": "2019-03-25T19:05:40.845140Z"
    }
   },
   "outputs": [
    {
     "name": "stdout",
     "output_type": "stream",
     "text": [
      "90.3 ns ± 3.18 ns per loop (mean ± std. dev. of 7 runs, 10000000 loops each)\n",
      "3.24 ms ± 93 µs per loop (mean ± std. dev. of 7 runs, 100 loops each)\n"
     ]
    }
   ],
   "source": [
    "import codecs\n",
    "import os\n",
    "emlMappingFile = r'Y:\\Shared\\USD\\Business Data and Analytics\\Claims_Pipeline_Files\\Mapping_Files\\EmlMappingFile.csv'\n",
    "encodedFile = codecs.encode(emlMappingFile, \"utf-8\")\n",
    "\n",
    "def py_read(filename):\n",
    "    with open(filename, \"r\") as f:\n",
    "        return f.read()\n",
    "\n",
    "\n",
    "\n",
    "pytok = PyTokenize()\n",
    "pytok.open_file()\n",
    "%timeit pytok.read_in_file() # 90.3ns = 0.0000903 ms\n",
    "%timeit py_read(emlFile) # 3.24ms = 3240000 ns\n",
    "# speed increase:  35880398671.1%!!\n",
    "\n"
   ]
  },
  {
   "cell_type": "code",
   "execution_count": 27,
   "metadata": {},
   "outputs": [
    {
     "name": "stdout",
     "output_type": "stream",
     "text": [
      "188 µs ± 3.07 µs per loop (mean ± std. dev. of 7 runs, 10000 loops each)\n",
      "656 µs ± 102 µs per loop (mean ± std. dev. of 7 runs, 1000 loops each)\n"
     ]
    }
   ],
   "source": [
    "import codecs\n",
    "emlMappingFile = r'Y:\\Shared\\USD\\Business Data and Analytics\\Claims_Pipeline_Files\\Mapping_Files\\EmlMappingFile.csv'\n",
    "#print(read_file(emlMappingFile.encode('utf-8')))\n",
    "#os.path.getsize(emlMappingFile)\n",
    "encodedFile = codecs.encode(emlMappingFile, \"utf-8\")\n",
    "\n",
    "%timeit cy_read(encodedFile) # cy_read is much faster than os.path.getsize\n",
    "%timeit os.path.getsize(encodedFile)\n",
    "\n",
    "# 186 µs ± 2.04 µs per loop (mean ± std. dev. of 7 runs, 10000 loops each)"
   ]
  },
  {
   "cell_type": "code",
   "execution_count": 42,
   "metadata": {},
   "outputs": [
    {
     "name": "stdout",
     "output_type": "stream",
     "text": [
      "1.62 ms ± 45.5 µs per loop (mean ± std. dev. of 7 runs, 1000 loops each)\n",
      "3.04 ms ± 191 µs per loop (mean ± std. dev. of 7 runs, 100 loops each)\n"
     ]
    }
   ],
   "source": [
    "import codecs\n",
    "emlMappingFile = r'Y:\\Shared\\USD\\Business Data and Analytics\\Claims_Pipeline_Files\\Mapping_Files\\EmlMappingFile.csv'\n",
    "encodedFile = codecs.encode(emlMappingFile, \"utf-8\")\n",
    "\n",
    "%timeit cy_file_read(encodedFile)\n",
    "%timeit py_file_read(encodedFile)"
   ]
  },
  {
   "cell_type": "code",
   "execution_count": null,
   "metadata": {},
   "outputs": [],
   "source": []
  }
 ],
 "metadata": {
  "hide_input": false,
  "kernelspec": {
   "display_name": "Python 3",
   "language": "python",
   "name": "python3"
  },
  "language_info": {
   "codemirror_mode": {
    "name": "ipython",
    "version": 3
   },
   "file_extension": ".py",
   "mimetype": "text/x-python",
   "name": "python",
   "nbconvert_exporter": "python",
   "pygments_lexer": "ipython3",
   "version": "3.6.8"
  },
  "latex_envs": {
   "LaTeX_envs_menu_present": true,
   "autoclose": false,
   "autocomplete": true,
   "bibliofile": "biblio.bib",
   "cite_by": "apalike",
   "current_citInitial": 1,
   "eqLabelWithNumbers": true,
   "eqNumInitial": 1,
   "hotkeys": {
    "equation": "Ctrl-E",
    "itemize": "Ctrl-I"
   },
   "labels_anchors": false,
   "latex_user_defs": false,
   "report_style_numbering": false,
   "user_envs_cfg": false
  },
  "toc": {
   "base_numbering": 1,
   "nav_menu": {},
   "number_sections": true,
   "sideBar": true,
   "skip_h1_title": false,
   "title_cell": "Table of Contents",
   "title_sidebar": "Contents",
   "toc_cell": false,
   "toc_position": {},
   "toc_section_display": true,
   "toc_window_display": false
  }
 },
 "nbformat": 4,
 "nbformat_minor": 2
}
